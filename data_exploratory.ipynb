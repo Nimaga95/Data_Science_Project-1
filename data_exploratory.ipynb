{
 "cells": [
  {
   "cell_type": "markdown",
   "source": [
    "## Set my working space by importing the modules"
   ],
   "metadata": {
    "collapsed": false
   }
  },
  {
   "cell_type": "code",
   "execution_count": 10,
   "outputs": [],
   "source": [
    "import pandas as pd\n",
    "import matplotlib.pyplot as plt"
   ],
   "metadata": {
    "collapsed": false,
    "ExecuteTime": {
     "end_time": "2023-07-26T20:30:54.888763900Z",
     "start_time": "2023-07-26T20:30:54.865768Z"
    }
   }
  },
  {
   "cell_type": "markdown",
   "source": [
    "## Load the data into a dataframe"
   ],
   "metadata": {
    "collapsed": false
   }
  },
  {
   "cell_type": "code",
   "execution_count": 11,
   "outputs": [],
   "source": [
    "data = pd.read_csv('data.csv')"
   ],
   "metadata": {
    "collapsed": false,
    "ExecuteTime": {
     "end_time": "2023-07-26T20:30:56.886324800Z",
     "start_time": "2023-07-26T20:30:56.804101Z"
    }
   }
  },
  {
   "cell_type": "markdown",
   "source": [
    "##"
   ],
   "metadata": {
    "collapsed": false
   }
  },
  {
   "cell_type": "code",
   "execution_count": 12,
   "outputs": [
    {
     "data": {
      "text/plain": "Rank                                        1\nMajor_code                               2419\nMajor                   PETROLEUM ENGINEERING\nTotal                                  2339.0\nMen                                    2057.0\nWomen                                   282.0\nMajor_category                    Engineering\nShareWomen                           0.120564\nSample_size                                36\nEmployed                                 1976\nFull_time                                1849\nPart_time                                 270\nFull_time_year_round                     1207\nUnemployed                                 37\nUnemployment_rate                    0.018381\nMedian                                 110000\nP25th                                   95000\nP75th                                  125000\nCollege_jobs                             1534\nNon_college_jobs                          364\nLow_wage_jobs                             193\nName: 0, dtype: object"
     },
     "execution_count": 12,
     "metadata": {},
     "output_type": "execute_result"
    }
   ],
   "source": [
    "data.iloc[0]"
   ],
   "metadata": {
    "collapsed": false,
    "ExecuteTime": {
     "end_time": "2023-07-26T20:31:14.788743700Z",
     "start_time": "2023-07-26T20:31:14.720616200Z"
    }
   }
  },
  {
   "cell_type": "code",
   "execution_count": null,
   "outputs": [],
   "source": [],
   "metadata": {
    "collapsed": false
   }
  },
  {
   "cell_type": "code",
   "execution_count": null,
   "outputs": [],
   "source": [],
   "metadata": {
    "collapsed": false
   }
  }
 ],
 "metadata": {
  "kernelspec": {
   "display_name": "Python 3",
   "language": "python",
   "name": "python3"
  },
  "language_info": {
   "codemirror_mode": {
    "name": "ipython",
    "version": 2
   },
   "file_extension": ".py",
   "mimetype": "text/x-python",
   "name": "python",
   "nbconvert_exporter": "python",
   "pygments_lexer": "ipython2",
   "version": "2.7.6"
  }
 },
 "nbformat": 4,
 "nbformat_minor": 0
}
